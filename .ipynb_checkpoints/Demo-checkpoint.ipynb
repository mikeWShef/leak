{
 "cells": [
  {
   "cell_type": "code",
   "execution_count": 2,
   "id": "88713516",
   "metadata": {},
   "outputs": [],
   "source": [
    "import leak\n",
    "import numpy as np"
   ]
  },
  {
   "cell_type": "code",
   "execution_count": null,
   "id": "4f1c3c28",
   "metadata": {},
   "outputs": [],
   "source": [
    "class MyFunk:\n",
    "    def __init__(mu, sigma):\n",
    "        self.mu = mu\n",
    "        self.sigma = sigma\n",
    "        \n",
    "    def __call__(self, input_array):\n",
    "        return self.sigma*np.random.randn(len(input_array))+self.mu"
   ]
  },
  {
   "cell_type": "code",
   "execution_count": null,
   "id": "020ebfd0",
   "metadata": {},
   "outputs": [],
   "source": [
    "looper = leak.Looper()"
   ]
  }
 ],
 "metadata": {
  "kernelspec": {
   "display_name": "Python 3 (ipykernel)",
   "language": "python",
   "name": "python3"
  },
  "language_info": {
   "codemirror_mode": {
    "name": "ipython",
    "version": 3
   },
   "file_extension": ".py",
   "mimetype": "text/x-python",
   "name": "python",
   "nbconvert_exporter": "python",
   "pygments_lexer": "ipython3",
   "version": "3.8.12"
  }
 },
 "nbformat": 4,
 "nbformat_minor": 5
}
