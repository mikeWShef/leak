{
 "cells": [
  {
   "cell_type": "code",
   "execution_count": 1,
   "id": "5d9fe24a",
   "metadata": {},
   "outputs": [],
   "source": [
    "import leak\n",
    "import numpy as np"
   ]
  },
  {
   "cell_type": "markdown",
   "id": "3aedb69d",
   "metadata": {},
   "source": [
    "Any of the below callable definitions work"
   ]
  },
  {
   "cell_type": "code",
   "execution_count": 2,
   "id": "df08b190",
   "metadata": {},
   "outputs": [],
   "source": [
    "class MyFunc:\n",
    "    def __init__(self, mu=0, sigma_2=1):\n",
    "        self.mu = mu\n",
    "        self.sigma_2 = sigma_2\n",
    "        \n",
    "    def __call__(self, input_array):\n",
    "        return self.sigma_2*np.random.randn(len(input_array))+self.mu\n",
    "\n",
    "func = MyFunc()"
   ]
  },
  {
   "cell_type": "code",
   "execution_count": 3,
   "id": "c42918bc",
   "metadata": {},
   "outputs": [],
   "source": [
    "func = lambda x: np.random.randn(len(x))"
   ]
  },
  {
   "cell_type": "code",
   "execution_count": 4,
   "id": "cfc62d4c",
   "metadata": {},
   "outputs": [],
   "source": [
    "def func(arr):\n",
    "    return np.random.randn(len(arr))"
   ]
  },
  {
   "cell_type": "code",
   "execution_count": 5,
   "id": "b77a612d",
   "metadata": {},
   "outputs": [],
   "source": [
    "looper = leak.Looper()\n",
    "looper.add_func(func)"
   ]
  },
  {
   "cell_type": "code",
   "execution_count": null,
   "id": "4e870d70",
   "metadata": {},
   "outputs": [],
   "source": [
    "# memory will leak while this is running, and be cleaned up after\n",
    "looper.leek_memory(2048**2, 50000)"
   ]
  }
 ],
 "metadata": {
  "kernelspec": {
   "display_name": "Python 3 (ipykernel)",
   "language": "python",
   "name": "python3"
  },
  "language_info": {
   "codemirror_mode": {
    "name": "ipython",
    "version": 3
   },
   "file_extension": ".py",
   "mimetype": "text/x-python",
   "name": "python",
   "nbconvert_exporter": "python",
   "pygments_lexer": "ipython3",
   "version": "3.8.12"
  }
 },
 "nbformat": 4,
 "nbformat_minor": 5
}
